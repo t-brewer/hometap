{
 "cells": [
  {
   "cell_type": "markdown",
   "metadata": {},
   "source": [
    "# HomeTap : Demonstration Project \n",
    "## Thomas Brewer\n",
    "\n",
    "*Note*: This is a simple project in preparation for my interview with HomeTap.  The purpose is not to show a complex analysis, but rather demonstrate some of the skills .up my sleeve (and asked for in the job listing), and emphasize my motivation for this position.\n",
    "<br>\n",
    "<br>\n",
    "You will also find the same on my github : https://github.com/t-brewer/hometap\n",
    "\n",
    "### Objective :  Make simple model to estimate house prices based on features.\n",
    "\n",
    "For this I use the San Luis Obipso houses dataset (https://wiki.csc.calpoly.edu/datasets/wiki/Houses). \n",
    "I would have used some from the Boston area, but I was having trouble finding a free dataset, beyond the *Boston Housing Dataset* typically used in intro to machine learning courses.\n",
    "\n",
    "The dataset used has some very basic properties :\n",
    "\n",
    " - **MLS**: Multiple listing service number for the house (unique ID).\n",
    " - **Location**: city/town where the house is located. Most locations are in San Luis Obispo county and northern Santa Barbara county (Santa Maria-Orcutt, Lompoc, Guadelupe, Los Alamos), but there some out of area locations as well.\n",
    " - **Price**: the most recent listing price of the house (in dollars).\n",
    " - **Bedrooms**: number of bedrooms.\n",
    " - **Bathrooms**: number of bathrooms.\n",
    " - **Size**: size of the house in square feet.\n",
    " - **Price/SQ.ft**: price of the house per square foot.\n",
    " - **Status**: type of sale. Thee types are represented in the dataset: Short Sale, Foreclosure and Regular.\n",
    " <br>\n",
    " <br>\n",
    "\n",
    "This preparation should demonstrate: \n",
    "- Data Manipulation (via pandas)\n",
    "- Exploratory Data Analysis / Statistics\n",
    "- Visualizations\n",
    "- Sci-Kit Learn\n",
    "- Machine Learning \n",
    "- Web scraping (not asked for, but thought I would include it anyway since it could be a useful skill when dealing with real estate (get some extra info about basically anything))\n"
   ]
  },
  {
   "cell_type": "code",
   "execution_count": 1,
   "metadata": {
    "collapsed": true
   },
   "outputs": [],
   "source": [
    "# Import libraries\n",
    "# Basic Libraries\n",
    "import pandas as pd\n",
    "import numpy as np\n",
    "\n",
    "# Web Scraping Libraries\n",
    "import requests\n",
    "from bs4 import BeautifulSoup\n",
    "\n",
    "# SKLearn libraries\n",
    "from sklearn.ensemble import RandomForestRegressor\n",
    "from sklearn.model_selection import train_test_split, cross_val_score, GridSearchCV\n",
    "\n",
    "# Plotting Libraries\n",
    "import seaborn as sns\n",
    "from matplotlib import pyplot as plt\n",
    "%matplotlib inline"
   ]
  },
  {
   "cell_type": "markdown",
   "metadata": {},
   "source": [
    "## Importing / Retrieving Data\n",
    "\n",
    "As stated above, the basic data comes from a csv file downloaded from the mentioned website.  The data is not complex, which makes it a good tool easily demonstrate various skills."
   ]
  },
  {
   "cell_type": "code",
   "execution_count": 2,
   "metadata": {},
   "outputs": [
    {
     "data": {
      "text/html": [
       "<div>\n",
       "<style>\n",
       "    .dataframe thead tr:only-child th {\n",
       "        text-align: right;\n",
       "    }\n",
       "\n",
       "    .dataframe thead th {\n",
       "        text-align: left;\n",
       "    }\n",
       "\n",
       "    .dataframe tbody tr th {\n",
       "        vertical-align: top;\n",
       "    }\n",
       "</style>\n",
       "<table border=\"1\" class=\"dataframe\">\n",
       "  <thead>\n",
       "    <tr style=\"text-align: right;\">\n",
       "      <th></th>\n",
       "      <th>MLS</th>\n",
       "      <th>Location</th>\n",
       "      <th>Price</th>\n",
       "      <th>Bedrooms</th>\n",
       "      <th>Bathrooms</th>\n",
       "      <th>Size</th>\n",
       "      <th>Price/SQ.Ft</th>\n",
       "      <th>Status</th>\n",
       "    </tr>\n",
       "  </thead>\n",
       "  <tbody>\n",
       "    <tr>\n",
       "      <th>0</th>\n",
       "      <td>132842</td>\n",
       "      <td>Arroyo Grande</td>\n",
       "      <td>795000.0</td>\n",
       "      <td>3</td>\n",
       "      <td>3</td>\n",
       "      <td>2371</td>\n",
       "      <td>335.30</td>\n",
       "      <td>Short Sale</td>\n",
       "    </tr>\n",
       "    <tr>\n",
       "      <th>1</th>\n",
       "      <td>134364</td>\n",
       "      <td>Paso Robles</td>\n",
       "      <td>399000.0</td>\n",
       "      <td>4</td>\n",
       "      <td>3</td>\n",
       "      <td>2818</td>\n",
       "      <td>141.59</td>\n",
       "      <td>Short Sale</td>\n",
       "    </tr>\n",
       "    <tr>\n",
       "      <th>2</th>\n",
       "      <td>135141</td>\n",
       "      <td>Paso Robles</td>\n",
       "      <td>545000.0</td>\n",
       "      <td>4</td>\n",
       "      <td>3</td>\n",
       "      <td>3032</td>\n",
       "      <td>179.75</td>\n",
       "      <td>Short Sale</td>\n",
       "    </tr>\n",
       "    <tr>\n",
       "      <th>3</th>\n",
       "      <td>135712</td>\n",
       "      <td>Morro Bay</td>\n",
       "      <td>909000.0</td>\n",
       "      <td>4</td>\n",
       "      <td>4</td>\n",
       "      <td>3540</td>\n",
       "      <td>256.78</td>\n",
       "      <td>Short Sale</td>\n",
       "    </tr>\n",
       "    <tr>\n",
       "      <th>4</th>\n",
       "      <td>136282</td>\n",
       "      <td>Santa Maria-Orcutt</td>\n",
       "      <td>109900.0</td>\n",
       "      <td>3</td>\n",
       "      <td>1</td>\n",
       "      <td>1249</td>\n",
       "      <td>87.99</td>\n",
       "      <td>Short Sale</td>\n",
       "    </tr>\n",
       "  </tbody>\n",
       "</table>\n",
       "</div>"
      ],
      "text/plain": [
       "      MLS            Location     Price  Bedrooms  Bathrooms  Size  \\\n",
       "0  132842       Arroyo Grande  795000.0         3          3  2371   \n",
       "1  134364         Paso Robles  399000.0         4          3  2818   \n",
       "2  135141         Paso Robles  545000.0         4          3  3032   \n",
       "3  135712           Morro Bay  909000.0         4          4  3540   \n",
       "4  136282  Santa Maria-Orcutt  109900.0         3          1  1249   \n",
       "\n",
       "   Price/SQ.Ft      Status  \n",
       "0       335.30  Short Sale  \n",
       "1       141.59  Short Sale  \n",
       "2       179.75  Short Sale  \n",
       "3       256.78  Short Sale  \n",
       "4        87.99  Short Sale  "
      ]
     },
     "execution_count": 2,
     "metadata": {},
     "output_type": "execute_result"
    }
   ],
   "source": [
    "# Import data (downloaded csv), and sort by location\n",
    "data = pd.read_csv('RealEstate.csv')\n",
    "data.sort_values(by='Location')\n",
    "data.head()"
   ]
  },
  {
   "cell_type": "markdown",
   "metadata": {},
   "source": [
    "When looking at the unique location names, I noticed some names had extra spaces.  This needs to be fixed so that we may encode it properly later on.  "
   ]
  },
  {
   "cell_type": "code",
   "execution_count": 3,
   "metadata": {
    "collapsed": true
   },
   "outputs": [],
   "source": [
    "data.Location = data.Location.apply(lambda x : x.strip())"
   ]
  },
  {
   "cell_type": "markdown",
   "metadata": {},
   "source": [
    "### Fetching Population Densities\n",
    "\n",
    "To demonstrate web scrapingFor each city listed in the data set, I would like to fetch the population density off of wikipedia.  Now I know that wikipedia has its own API and python library, but it is very unlikely that I will be querying wikipedia for this position, so I decided to use Beautiful soup, and get the data myself.\n",
    "<br>\n",
    "<br>\n",
    "To do the scraping we are going to need the URLs of each city.  Thankfully wikipedia has a consitent way of providing them, so we can define the URL prefix and suffix, and to this over a loop.  Note that these values will be the same for each unique city, so I will be storing the results in a separate dataframe (for now at least).  Also, note that some of these pages do not include the population density (for small communities), so I will just be leaving null values there.   "
   ]
  },
  {
   "cell_type": "code",
   "execution_count": 4,
   "metadata": {
    "collapsed": true
   },
   "outputs": [],
   "source": [
    "# FETCHING POPULATION DENSITIES\n",
    "\n",
    "# define dictionary to store results :\n",
    "density_data = []\n",
    "\n",
    "# Define URL prefix/suffix\n",
    "url_prefix = 'https://en.wikipedia.org/wiki/'\n",
    "url_suffix = ',_California'\n",
    "\n",
    "# Define unique cities : \n",
    "cities = data.Location.unique()\n",
    "\n",
    "# Loop over unique cities to fetch population densities\n",
    "for c in cities:\n",
    "    \n",
    "    # define URL (and add underscore to two word city names for URL)\n",
    "    url = url_prefix + c.replace(' ', '_') + url_suffix\n",
    "    \n",
    "    # Request query\n",
    "    res = requests.get(url)\n",
    "    \n",
    "    # If this is a valid URL, we extract the density, otherwise we move on the next one in the list\n",
    "    if (res.status_code == 200):\n",
    "        # Valid URL\n",
    "  \n",
    "        # Put url content(html) into beautiful soup object\n",
    "        soup = BeautifulSoup(res.content, 'lxml')\n",
    "   \n",
    "        # Get infobox table, extract row with 'Density' in the text, and get a float value of\n",
    "        # the population density (per square mile)\n",
    "        # Note that not all tables include the population density, so we will just have to live with null values\n",
    "        try:\n",
    "            table   = soup.find('table', {'class':'infobox geography vcard'})\n",
    "            row     = [tr for tr in table.find_all('tr') if 'Density' in tr.text][0]\n",
    "            density = float(row.td.text.split('/')[0].replace(',', ''))\n",
    "            \n",
    "        except : \n",
    "            density = np.nan\n",
    "        \n",
    "        density_data.append([c, density])\n",
    "    \n",
    "    else:\n",
    "        continue"
   ]
  },
  {
   "cell_type": "code",
   "execution_count": 5,
   "metadata": {},
   "outputs": [
    {
     "data": {
      "text/html": [
       "<div>\n",
       "<style>\n",
       "    .dataframe thead tr:only-child th {\n",
       "        text-align: right;\n",
       "    }\n",
       "\n",
       "    .dataframe thead th {\n",
       "        text-align: left;\n",
       "    }\n",
       "\n",
       "    .dataframe tbody tr th {\n",
       "        vertical-align: top;\n",
       "    }\n",
       "</style>\n",
       "<table border=\"1\" class=\"dataframe\">\n",
       "  <thead>\n",
       "    <tr style=\"text-align: right;\">\n",
       "      <th></th>\n",
       "      <th>Location</th>\n",
       "      <th>pop_density</th>\n",
       "    </tr>\n",
       "  </thead>\n",
       "  <tbody>\n",
       "    <tr>\n",
       "      <th>0</th>\n",
       "      <td>Arroyo Grande</td>\n",
       "      <td>3102.52</td>\n",
       "    </tr>\n",
       "    <tr>\n",
       "      <th>1</th>\n",
       "      <td>Paso Robles</td>\n",
       "      <td>1640.97</td>\n",
       "    </tr>\n",
       "    <tr>\n",
       "      <th>2</th>\n",
       "      <td>Morro Bay</td>\n",
       "      <td>2007.92</td>\n",
       "    </tr>\n",
       "    <tr>\n",
       "      <th>3</th>\n",
       "      <td>Oceano</td>\n",
       "      <td>4700.00</td>\n",
       "    </tr>\n",
       "    <tr>\n",
       "      <th>4</th>\n",
       "      <td>Atascadero</td>\n",
       "      <td>1162.74</td>\n",
       "    </tr>\n",
       "  </tbody>\n",
       "</table>\n",
       "</div>"
      ],
      "text/plain": [
       "        Location  pop_density\n",
       "0  Arroyo Grande      3102.52\n",
       "1    Paso Robles      1640.97\n",
       "2      Morro Bay      2007.92\n",
       "3         Oceano      4700.00\n",
       "4     Atascadero      1162.74"
      ]
     },
     "execution_count": 5,
     "metadata": {},
     "output_type": "execute_result"
    }
   ],
   "source": [
    "# Convert list of population densities to a pandas dataframe\n",
    "density_data = pd.DataFrame(density_data, columns=['Location', 'pop_density'])\n",
    "density_data.head()"
   ]
  },
  {
   "cell_type": "markdown",
   "metadata": {},
   "source": [
    "## Preprocessing / Cleaning"
   ]
  },
  {
   "cell_type": "markdown",
   "metadata": {},
   "source": [
    "Now that we have all the data that we will be using, let us take a closer look at the main set, and see if there is any cleaning that needs to be done. "
   ]
  },
  {
   "cell_type": "code",
   "execution_count": 6,
   "metadata": {},
   "outputs": [
    {
     "data": {
      "text/plain": [
       "MLS            0\n",
       "Location       0\n",
       "Price          0\n",
       "Bedrooms       0\n",
       "Bathrooms      0\n",
       "Size           0\n",
       "Price/SQ.Ft    0\n",
       "Status         0\n",
       "dtype: int64"
      ]
     },
     "execution_count": 6,
     "metadata": {},
     "output_type": "execute_result"
    }
   ],
   "source": [
    "# Check for null values. \n",
    "data.isnull().sum()"
   ]
  },
  {
   "cell_type": "markdown",
   "metadata": {},
   "source": [
    "No null values, so nothing to do on that end. "
   ]
  },
  {
   "cell_type": "code",
   "execution_count": 7,
   "metadata": {},
   "outputs": [
    {
     "data": {
      "text/plain": [
       "MLS              int64\n",
       "Location        object\n",
       "Price          float64\n",
       "Bedrooms         int64\n",
       "Bathrooms        int64\n",
       "Size             int64\n",
       "Price/SQ.Ft    float64\n",
       "Status          object\n",
       "dtype: object"
      ]
     },
     "execution_count": 7,
     "metadata": {},
     "output_type": "execute_result"
    }
   ],
   "source": [
    "# Check that data types make sense : \n",
    "data.dtypes"
   ]
  },
  {
   "cell_type": "markdown",
   "metadata": {},
   "source": [
    "Everything seems good here as well. \n",
    "<br>\n",
    "<br>\n",
    "Now, this data set does not very many columns, so we can check each value range and make sure that those make sense. "
   ]
  },
  {
   "cell_type": "code",
   "execution_count": 8,
   "metadata": {},
   "outputs": [
    {
     "data": {
      "text/html": [
       "<div>\n",
       "<style>\n",
       "    .dataframe thead tr:only-child th {\n",
       "        text-align: right;\n",
       "    }\n",
       "\n",
       "    .dataframe thead th {\n",
       "        text-align: left;\n",
       "    }\n",
       "\n",
       "    .dataframe tbody tr th {\n",
       "        vertical-align: top;\n",
       "    }\n",
       "</style>\n",
       "<table border=\"1\" class=\"dataframe\">\n",
       "  <thead>\n",
       "    <tr style=\"text-align: right;\">\n",
       "      <th></th>\n",
       "      <th>MLS</th>\n",
       "      <th>Price</th>\n",
       "      <th>Bedrooms</th>\n",
       "      <th>Bathrooms</th>\n",
       "      <th>Size</th>\n",
       "      <th>Price/SQ.Ft</th>\n",
       "    </tr>\n",
       "  </thead>\n",
       "  <tbody>\n",
       "    <tr>\n",
       "      <th>min</th>\n",
       "      <td>132842.0</td>\n",
       "      <td>26500.0</td>\n",
       "      <td>0.0</td>\n",
       "      <td>1.0</td>\n",
       "      <td>120.0</td>\n",
       "      <td>19.33</td>\n",
       "    </tr>\n",
       "    <tr>\n",
       "      <th>max</th>\n",
       "      <td>154580.0</td>\n",
       "      <td>5499000.0</td>\n",
       "      <td>10.0</td>\n",
       "      <td>11.0</td>\n",
       "      <td>6800.0</td>\n",
       "      <td>1144.64</td>\n",
       "    </tr>\n",
       "  </tbody>\n",
       "</table>\n",
       "</div>"
      ],
      "text/plain": [
       "          MLS      Price  Bedrooms  Bathrooms    Size  Price/SQ.Ft\n",
       "min  132842.0    26500.0       0.0        1.0   120.0        19.33\n",
       "max  154580.0  5499000.0      10.0       11.0  6800.0      1144.64"
      ]
     },
     "execution_count": 8,
     "metadata": {},
     "output_type": "execute_result"
    }
   ],
   "source": [
    "data.describe().loc[['min', 'max']]"
   ]
  },
  {
   "cell_type": "markdown",
   "metadata": {},
   "source": [
    "No negative values, that is a good start.  There are some houses that have zero bedrooms, which is a bit odd. Perhaps this just means studio appartments, so I will assume it not an error. Also, 120 square feet is really small.  But I suppose it is possible. \n",
    "<br>\n",
    "<br>\n",
    "There doesn't seem to be any obvious cleaning to be done, so we leave it at that (perhaps something will show up later on)."
   ]
  },
  {
   "cell_type": "markdown",
   "metadata": {},
   "source": [
    "### Encoding Status \n",
    "Since the \"Status\" column is a string, we need to encode it, and make everything numerical. "
   ]
  },
  {
   "cell_type": "code",
   "execution_count": 9,
   "metadata": {},
   "outputs": [
    {
     "data": {
      "text/html": [
       "<div>\n",
       "<style>\n",
       "    .dataframe thead tr:only-child th {\n",
       "        text-align: right;\n",
       "    }\n",
       "\n",
       "    .dataframe thead th {\n",
       "        text-align: left;\n",
       "    }\n",
       "\n",
       "    .dataframe tbody tr th {\n",
       "        vertical-align: top;\n",
       "    }\n",
       "</style>\n",
       "<table border=\"1\" class=\"dataframe\">\n",
       "  <thead>\n",
       "    <tr style=\"text-align: right;\">\n",
       "      <th></th>\n",
       "      <th>MLS</th>\n",
       "      <th>Location</th>\n",
       "      <th>Price</th>\n",
       "      <th>Bedrooms</th>\n",
       "      <th>Bathrooms</th>\n",
       "      <th>Size</th>\n",
       "      <th>Price/SQ.Ft</th>\n",
       "      <th>Status_Foreclosure</th>\n",
       "      <th>Status_Regular</th>\n",
       "      <th>Status_Short Sale</th>\n",
       "    </tr>\n",
       "  </thead>\n",
       "  <tbody>\n",
       "    <tr>\n",
       "      <th>0</th>\n",
       "      <td>132842</td>\n",
       "      <td>Arroyo Grande</td>\n",
       "      <td>795000.0</td>\n",
       "      <td>3</td>\n",
       "      <td>3</td>\n",
       "      <td>2371</td>\n",
       "      <td>335.30</td>\n",
       "      <td>0</td>\n",
       "      <td>0</td>\n",
       "      <td>1</td>\n",
       "    </tr>\n",
       "    <tr>\n",
       "      <th>1</th>\n",
       "      <td>134364</td>\n",
       "      <td>Paso Robles</td>\n",
       "      <td>399000.0</td>\n",
       "      <td>4</td>\n",
       "      <td>3</td>\n",
       "      <td>2818</td>\n",
       "      <td>141.59</td>\n",
       "      <td>0</td>\n",
       "      <td>0</td>\n",
       "      <td>1</td>\n",
       "    </tr>\n",
       "    <tr>\n",
       "      <th>2</th>\n",
       "      <td>135141</td>\n",
       "      <td>Paso Robles</td>\n",
       "      <td>545000.0</td>\n",
       "      <td>4</td>\n",
       "      <td>3</td>\n",
       "      <td>3032</td>\n",
       "      <td>179.75</td>\n",
       "      <td>0</td>\n",
       "      <td>0</td>\n",
       "      <td>1</td>\n",
       "    </tr>\n",
       "    <tr>\n",
       "      <th>3</th>\n",
       "      <td>135712</td>\n",
       "      <td>Morro Bay</td>\n",
       "      <td>909000.0</td>\n",
       "      <td>4</td>\n",
       "      <td>4</td>\n",
       "      <td>3540</td>\n",
       "      <td>256.78</td>\n",
       "      <td>0</td>\n",
       "      <td>0</td>\n",
       "      <td>1</td>\n",
       "    </tr>\n",
       "    <tr>\n",
       "      <th>4</th>\n",
       "      <td>136282</td>\n",
       "      <td>Santa Maria-Orcutt</td>\n",
       "      <td>109900.0</td>\n",
       "      <td>3</td>\n",
       "      <td>1</td>\n",
       "      <td>1249</td>\n",
       "      <td>87.99</td>\n",
       "      <td>0</td>\n",
       "      <td>0</td>\n",
       "      <td>1</td>\n",
       "    </tr>\n",
       "  </tbody>\n",
       "</table>\n",
       "</div>"
      ],
      "text/plain": [
       "      MLS            Location     Price  Bedrooms  Bathrooms  Size  \\\n",
       "0  132842       Arroyo Grande  795000.0         3          3  2371   \n",
       "1  134364         Paso Robles  399000.0         4          3  2818   \n",
       "2  135141         Paso Robles  545000.0         4          3  3032   \n",
       "3  135712           Morro Bay  909000.0         4          4  3540   \n",
       "4  136282  Santa Maria-Orcutt  109900.0         3          1  1249   \n",
       "\n",
       "   Price/SQ.Ft  Status_Foreclosure  Status_Regular  Status_Short Sale  \n",
       "0       335.30                   0               0                  1  \n",
       "1       141.59                   0               0                  1  \n",
       "2       179.75                   0               0                  1  \n",
       "3       256.78                   0               0                  1  \n",
       "4        87.99                   0               0                  1  "
      ]
     },
     "execution_count": 9,
     "metadata": {},
     "output_type": "execute_result"
    }
   ],
   "source": [
    "data = pd.get_dummies(data, prefix=None, columns=['Status'])\n",
    "data.head()"
   ]
  },
  {
   "cell_type": "markdown",
   "metadata": {},
   "source": [
    "## Exploratory Data Analysis. \n",
    "To get a feel for the data we will be making a few plots, looking at some stats, correlations, etc... Nothing too extensive though since this is a demonstration. "
   ]
  },
  {
   "cell_type": "markdown",
   "metadata": {},
   "source": [
    "### General Statistics : \n",
    "Mostly as reference, let us see what the overview of the data looks like : "
   ]
  },
  {
   "cell_type": "code",
   "execution_count": 10,
   "metadata": {},
   "outputs": [
    {
     "data": {
      "text/html": [
       "<div>\n",
       "<style>\n",
       "    .dataframe thead tr:only-child th {\n",
       "        text-align: right;\n",
       "    }\n",
       "\n",
       "    .dataframe thead th {\n",
       "        text-align: left;\n",
       "    }\n",
       "\n",
       "    .dataframe tbody tr th {\n",
       "        vertical-align: top;\n",
       "    }\n",
       "</style>\n",
       "<table border=\"1\" class=\"dataframe\">\n",
       "  <thead>\n",
       "    <tr style=\"text-align: right;\">\n",
       "      <th></th>\n",
       "      <th>MLS</th>\n",
       "      <th>Price</th>\n",
       "      <th>Bedrooms</th>\n",
       "      <th>Bathrooms</th>\n",
       "      <th>Size</th>\n",
       "      <th>Price/SQ.Ft</th>\n",
       "      <th>Status_Foreclosure</th>\n",
       "      <th>Status_Regular</th>\n",
       "      <th>Status_Short Sale</th>\n",
       "    </tr>\n",
       "  </thead>\n",
       "  <tbody>\n",
       "    <tr>\n",
       "      <th>count</th>\n",
       "      <td>781.000000</td>\n",
       "      <td>7.810000e+02</td>\n",
       "      <td>781.000000</td>\n",
       "      <td>781.000000</td>\n",
       "      <td>781.000000</td>\n",
       "      <td>781.000000</td>\n",
       "      <td>781.000000</td>\n",
       "      <td>781.000000</td>\n",
       "      <td>781.000000</td>\n",
       "    </tr>\n",
       "    <tr>\n",
       "      <th>mean</th>\n",
       "      <td>151224.550576</td>\n",
       "      <td>3.833291e+05</td>\n",
       "      <td>3.142125</td>\n",
       "      <td>2.355954</td>\n",
       "      <td>1755.058899</td>\n",
       "      <td>213.131293</td>\n",
       "      <td>0.207426</td>\n",
       "      <td>0.131882</td>\n",
       "      <td>0.660691</td>\n",
       "    </tr>\n",
       "    <tr>\n",
       "      <th>std</th>\n",
       "      <td>3936.122042</td>\n",
       "      <td>3.490381e+05</td>\n",
       "      <td>0.855768</td>\n",
       "      <td>0.846596</td>\n",
       "      <td>819.577603</td>\n",
       "      <td>115.082146</td>\n",
       "      <td>0.405723</td>\n",
       "      <td>0.338579</td>\n",
       "      <td>0.473778</td>\n",
       "    </tr>\n",
       "    <tr>\n",
       "      <th>min</th>\n",
       "      <td>132842.000000</td>\n",
       "      <td>2.650000e+04</td>\n",
       "      <td>0.000000</td>\n",
       "      <td>1.000000</td>\n",
       "      <td>120.000000</td>\n",
       "      <td>19.330000</td>\n",
       "      <td>0.000000</td>\n",
       "      <td>0.000000</td>\n",
       "      <td>0.000000</td>\n",
       "    </tr>\n",
       "    <tr>\n",
       "      <th>25%</th>\n",
       "      <td>149922.000000</td>\n",
       "      <td>1.990000e+05</td>\n",
       "      <td>3.000000</td>\n",
       "      <td>2.000000</td>\n",
       "      <td>1218.000000</td>\n",
       "      <td>142.140000</td>\n",
       "      <td>0.000000</td>\n",
       "      <td>0.000000</td>\n",
       "      <td>0.000000</td>\n",
       "    </tr>\n",
       "    <tr>\n",
       "      <th>50%</th>\n",
       "      <td>152581.000000</td>\n",
       "      <td>2.950000e+05</td>\n",
       "      <td>3.000000</td>\n",
       "      <td>2.000000</td>\n",
       "      <td>1550.000000</td>\n",
       "      <td>188.360000</td>\n",
       "      <td>0.000000</td>\n",
       "      <td>0.000000</td>\n",
       "      <td>1.000000</td>\n",
       "    </tr>\n",
       "    <tr>\n",
       "      <th>75%</th>\n",
       "      <td>154167.000000</td>\n",
       "      <td>4.290000e+05</td>\n",
       "      <td>4.000000</td>\n",
       "      <td>3.000000</td>\n",
       "      <td>2032.000000</td>\n",
       "      <td>245.420000</td>\n",
       "      <td>0.000000</td>\n",
       "      <td>0.000000</td>\n",
       "      <td>1.000000</td>\n",
       "    </tr>\n",
       "    <tr>\n",
       "      <th>max</th>\n",
       "      <td>154580.000000</td>\n",
       "      <td>5.499000e+06</td>\n",
       "      <td>10.000000</td>\n",
       "      <td>11.000000</td>\n",
       "      <td>6800.000000</td>\n",
       "      <td>1144.640000</td>\n",
       "      <td>1.000000</td>\n",
       "      <td>1.000000</td>\n",
       "      <td>1.000000</td>\n",
       "    </tr>\n",
       "  </tbody>\n",
       "</table>\n",
       "</div>"
      ],
      "text/plain": [
       "                 MLS         Price    Bedrooms   Bathrooms         Size  \\\n",
       "count     781.000000  7.810000e+02  781.000000  781.000000   781.000000   \n",
       "mean   151224.550576  3.833291e+05    3.142125    2.355954  1755.058899   \n",
       "std      3936.122042  3.490381e+05    0.855768    0.846596   819.577603   \n",
       "min    132842.000000  2.650000e+04    0.000000    1.000000   120.000000   \n",
       "25%    149922.000000  1.990000e+05    3.000000    2.000000  1218.000000   \n",
       "50%    152581.000000  2.950000e+05    3.000000    2.000000  1550.000000   \n",
       "75%    154167.000000  4.290000e+05    4.000000    3.000000  2032.000000   \n",
       "max    154580.000000  5.499000e+06   10.000000   11.000000  6800.000000   \n",
       "\n",
       "       Price/SQ.Ft  Status_Foreclosure  Status_Regular  Status_Short Sale  \n",
       "count   781.000000          781.000000      781.000000         781.000000  \n",
       "mean    213.131293            0.207426        0.131882           0.660691  \n",
       "std     115.082146            0.405723        0.338579           0.473778  \n",
       "min      19.330000            0.000000        0.000000           0.000000  \n",
       "25%     142.140000            0.000000        0.000000           0.000000  \n",
       "50%     188.360000            0.000000        0.000000           1.000000  \n",
       "75%     245.420000            0.000000        0.000000           1.000000  \n",
       "max    1144.640000            1.000000        1.000000           1.000000  "
      ]
     },
     "execution_count": 10,
     "metadata": {},
     "output_type": "execute_result"
    }
   ],
   "source": [
    "data.describe()"
   ]
  },
  {
   "cell_type": "markdown",
   "metadata": {},
   "source": [
    "### Correlations : \n",
    "We now look at the correlation matrix of these different features.  For this, I am using a function that I made a while back to show everything nicely, with the option of filtering out correlations out of a certain range. Here is the function in question : "
   ]
  },
  {
   "cell_type": "code",
   "execution_count": 11,
   "metadata": {
    "collapsed": true
   },
   "outputs": [],
   "source": [
    "def corr_map(data, figsize=(15,10), mask_val = None):\n",
    "    # Make correlation heat map from pandas dataframe\n",
    "    # pass a value to mask_val to only see correlations\n",
    "    # above a certain value (the absolute value of the correlation)\n",
    "    corr = data.corr()    \n",
    "    \n",
    "    # Make mask to only show bottom triangle\n",
    "    mask = np.zeros_like(corr)\n",
    "    mask[np.triu_indices_from(corr)] = True\n",
    "    \n",
    "    # Add to the mask (if mask_val passed)\n",
    "    if (mask_val != None):\n",
    "        mask[abs(corr) < mask_val] = True\n",
    "    \n",
    "    # Make heatmap\n",
    "    f, ax = plt.subplots(figsize=figsize)\n",
    "    sns.heatmap(corr, mask=mask, annot=True, fmt='.2g')\n",
    "    pass\n"
   ]
  },
  {
   "cell_type": "code",
   "execution_count": 12,
   "metadata": {},
   "outputs": [
    {
     "data": {
      "image/png": "[encoded data removed]",
      "text/plain": [
       "<matplotlib.figure.Figure at 0x7f58b1fe9390>"
      ]
     },
     "metadata": {},
     "output_type": "display_data"
    }
   ],
   "source": [
    "# Correlation heat map\n",
    "corr_map(data)"
   ]
  },
  {
   "cell_type": "markdown",
   "metadata": {},
   "source": [
    "Since in the end house prices are what we are interested in, let us focus on that.  We see that it is most correlated with `Size`and `Bathrooms`.  Surprisingly, there is little correlation with the number of bedrooms.  We can take a closer look at some of these by plotting the Price as a function of the different features (excluding the binary features), and price / sq foot since it is redundant. "
   ]
  },
  {
   "cell_type": "code",
   "execution_count": 13,
   "metadata": {},
   "outputs": [
    {
     "data": {
      "text/plain": [
       "<matplotlib.text.Text at 0x7f58b2f73518>"
      ]
     },
     "execution_count": 13,
     "metadata": {},
     "output_type": "execute_result"
    },
    {
     "data": {
      "image/png": "[encoded data removed]",
      "text/plain": [
       "<matplotlib.figure.Figure at 0x7f58b316abe0>"
      ]
     },
     "metadata": {},
     "output_type": "display_data"
    }
   ],
   "source": [
    "# Define figure/axes\n",
    "f, [(ax1, ax2), (ax3, ax4)] = plt.subplots(nrows=2, ncols=2, figsize=(15,15), sharex=False, sharey=False)\n",
    "\n",
    "# Plot Price vs Number of bedrooms : \n",
    "sns.barplot(x='Bedrooms', y='Price', data=data, ax=ax1)\n",
    "ax1.set_ylabel('Mean Price ($)')\n",
    "\n",
    "# Plot Price vs Number Bathrooms\n",
    "sns.barplot(x='Bathrooms', y='Price', data=data, ax=ax2)\n",
    "ax2.set_ylabel('Mean Price ($)')\n",
    "\n",
    "# Plot Price vs Size\n",
    "sns.regplot(x='Size', y='Price', data=data, ax=ax3)\n",
    "ax3.set_xlabel('Size (square feet)')\n",
    "ax3.set_ylabel('Price ($)')\n",
    "\n",
    "# Plot price distribution\n",
    "sns.distplot(data.Price.values, kde=False, ax=ax4)\n",
    "ax4.set_ybound(0, 250) # Was not doing this automatically for some reason\n",
    "ax4.set_ylabel('Count')\n",
    "ax4.set_xlabel('Price ($)')"
   ]
  },
  {
   "cell_type": "markdown",
   "metadata": {},
   "source": [
    "From these plots, we can see a few things already.  First of all, looking at the price distribution, there is one that goes over 5 Million dollars.  Thise will not be representative of the data, and does not have any outstanding features (from this data set anyways).  It is probably best not to include it since it will certainly throw off our model.  There is also one that is around 3M dollars, which is pretty far from the tail of the distribution.  We will be getting rid of both of these houses, and replot to get a clearer picture."
   ]
  },
  {
   "cell_type": "code",
   "execution_count": 14,
   "metadata": {},
   "outputs": [
    {
     "data": {
      "text/html": [
       "<div>\n",
       "<style>\n",
       "    .dataframe thead tr:only-child th {\n",
       "        text-align: right;\n",
       "    }\n",
       "\n",
       "    .dataframe thead th {\n",
       "        text-align: left;\n",
       "    }\n",
       "\n",
       "    .dataframe tbody tr th {\n",
       "        vertical-align: top;\n",
       "    }\n",
       "</style>\n",
       "<table border=\"1\" class=\"dataframe\">\n",
       "  <thead>\n",
       "    <tr style=\"text-align: right;\">\n",
       "      <th></th>\n",
       "      <th>MLS</th>\n",
       "      <th>Location</th>\n",
       "      <th>Price</th>\n",
       "      <th>Bedrooms</th>\n",
       "      <th>Bathrooms</th>\n",
       "      <th>Size</th>\n",
       "      <th>Price/SQ.Ft</th>\n",
       "      <th>Status_Foreclosure</th>\n",
       "      <th>Status_Regular</th>\n",
       "      <th>Status_Short Sale</th>\n",
       "    </tr>\n",
       "  </thead>\n",
       "  <tbody>\n",
       "    <tr>\n",
       "      <th>727</th>\n",
       "      <td>154491</td>\n",
       "      <td>Cambria</td>\n",
       "      <td>2995000.0</td>\n",
       "      <td>5</td>\n",
       "      <td>4</td>\n",
       "      <td>3684</td>\n",
       "      <td>812.98</td>\n",
       "      <td>0</td>\n",
       "      <td>1</td>\n",
       "      <td>0</td>\n",
       "    </tr>\n",
       "    <tr>\n",
       "      <th>753</th>\n",
       "      <td>154526</td>\n",
       "      <td>Arroyo Grande</td>\n",
       "      <td>5499000.0</td>\n",
       "      <td>4</td>\n",
       "      <td>5</td>\n",
       "      <td>5060</td>\n",
       "      <td>1086.76</td>\n",
       "      <td>0</td>\n",
       "      <td>1</td>\n",
       "      <td>0</td>\n",
       "    </tr>\n",
       "  </tbody>\n",
       "</table>\n",
       "</div>"
      ],
      "text/plain": [
       "        MLS       Location      Price  Bedrooms  Bathrooms  Size  Price/SQ.Ft  \\\n",
       "727  154491        Cambria  2995000.0         5          4  3684       812.98   \n",
       "753  154526  Arroyo Grande  5499000.0         4          5  5060      1086.76   \n",
       "\n",
       "     Status_Foreclosure  Status_Regular  Status_Short Sale  \n",
       "727                   0               1                  0  \n",
       "753                   0               1                  0  "
      ]
     },
     "execution_count": 14,
     "metadata": {},
     "output_type": "execute_result"
    }
   ],
   "source": [
    "# Print rows to double check that they have no outstanding features (besides price)\n",
    "data[data.Price > 2500000]"
   ]
  },
  {
   "cell_type": "code",
   "execution_count": 15,
   "metadata": {
    "collapsed": true
   },
   "outputs": [],
   "source": [
    "# Drop these rows \n",
    "data.drop([727, 753], inplace=True)"
   ]
  },
  {
   "cell_type": "code",
   "execution_count": 16,
   "metadata": {},
   "outputs": [
    {
     "data": {
      "text/plain": [
       "<matplotlib.text.Text at 0x7f58b2fa0358>"
      ]
     },
     "execution_count": 16,
     "metadata": {},
     "output_type": "execute_result"
    },
    {
     "data": {
      "image/png": "[encoded data removed]",
      "text/plain": [
       "<matplotlib.figure.Figure at 0x7f58b2ff6fd0>"
      ]
     },
     "metadata": {},
     "output_type": "display_data"
    }
   ],
   "source": [
    "# Replot data for better picture\n",
    "\n",
    "# Define figure/axes\n",
    "f, [(ax1, ax2), (ax3, ax4)] = plt.subplots(nrows=2, ncols=2, figsize=(15,15), sharex=False, sharey=False)\n",
    "\n",
    "# Plot Price vs Number of bedrooms : \n",
    "sns.barplot(x='Bedrooms', y='Price', data=data, ax=ax1)\n",
    "ax1.set_ylabel('Mean Price ($)')\n",
    "\n",
    "# Plot Price vs Number Bathrooms\n",
    "sns.barplot(x='Bathrooms', y='Price', data=data, ax=ax2)\n",
    "ax2.set_ylabel('Mean Price ($)')\n",
    "\n",
    "# Plot Price vs Size\n",
    "sns.regplot(x='Size', y='Price', data=data, ax=ax3)\n",
    "ax3.set_xlabel('Size (square feet)')\n",
    "ax3.set_ylabel('Price ($)')\n",
    "\n",
    "# Plot price distribution\n",
    "sns.distplot(data.Price.values, kde=False, ax=ax4)\n",
    "ax4.set_ybound(0, 150) # Was not doing this automatically for some reason\n",
    "ax4.set_ylabel('Count')\n",
    "ax4.set_xlabel('Price ($)')"
   ]
  },
  {
   "cell_type": "markdown",
   "metadata": {},
   "source": [
    "One remarkable thing, that I do not seem to understand is how the mean price takes a dip when there are 7 bathrooms, and how it dips after 6 bedrooms.  Since this isn't a very large dataset, let's take a closer look. "
   ]
  },
  {
   "cell_type": "code",
   "execution_count": 17,
   "metadata": {},
   "outputs": [
    {
     "data": {
      "text/html": [
       "<div>\n",
       "<style>\n",
       "    .dataframe thead tr:only-child th {\n",
       "        text-align: right;\n",
       "    }\n",
       "\n",
       "    .dataframe thead th {\n",
       "        text-align: left;\n",
       "    }\n",
       "\n",
       "    .dataframe tbody tr th {\n",
       "        vertical-align: top;\n",
       "    }\n",
       "</style>\n",
       "<table border=\"1\" class=\"dataframe\">\n",
       "  <thead>\n",
       "    <tr style=\"text-align: right;\">\n",
       "      <th></th>\n",
       "      <th>MLS</th>\n",
       "      <th>Location</th>\n",
       "      <th>Price</th>\n",
       "      <th>Bedrooms</th>\n",
       "      <th>Bathrooms</th>\n",
       "      <th>Size</th>\n",
       "      <th>Price/SQ.Ft</th>\n",
       "      <th>Status_Foreclosure</th>\n",
       "      <th>Status_Regular</th>\n",
       "      <th>Status_Short Sale</th>\n",
       "    </tr>\n",
       "  </thead>\n",
       "  <tbody>\n",
       "    <tr>\n",
       "      <th>201</th>\n",
       "      <td>150143</td>\n",
       "      <td>Arroyo Grande</td>\n",
       "      <td>1499000.0</td>\n",
       "      <td>5</td>\n",
       "      <td>7</td>\n",
       "      <td>6800</td>\n",
       "      <td>220.44</td>\n",
       "      <td>0</td>\n",
       "      <td>0</td>\n",
       "      <td>1</td>\n",
       "    </tr>\n",
       "    <tr>\n",
       "      <th>443</th>\n",
       "      <td>152999</td>\n",
       "      <td>Los Osos</td>\n",
       "      <td>1249000.0</td>\n",
       "      <td>6</td>\n",
       "      <td>7</td>\n",
       "      <td>5103</td>\n",
       "      <td>244.76</td>\n",
       "      <td>1</td>\n",
       "      <td>0</td>\n",
       "      <td>0</td>\n",
       "    </tr>\n",
       "    <tr>\n",
       "      <th>639</th>\n",
       "      <td>154359</td>\n",
       "      <td>Atascadero</td>\n",
       "      <td>699000.0</td>\n",
       "      <td>10</td>\n",
       "      <td>11</td>\n",
       "      <td>4905</td>\n",
       "      <td>142.51</td>\n",
       "      <td>0</td>\n",
       "      <td>0</td>\n",
       "      <td>1</td>\n",
       "    </tr>\n",
       "  </tbody>\n",
       "</table>\n",
       "</div>"
      ],
      "text/plain": [
       "        MLS       Location      Price  Bedrooms  Bathrooms  Size  Price/SQ.Ft  \\\n",
       "201  150143  Arroyo Grande  1499000.0         5          7  6800       220.44   \n",
       "443  152999       Los Osos  1249000.0         6          7  5103       244.76   \n",
       "639  154359     Atascadero   699000.0        10         11  4905       142.51   \n",
       "\n",
       "     Status_Foreclosure  Status_Regular  Status_Short Sale  \n",
       "201                   0               0                  1  \n",
       "443                   1               0                  0  \n",
       "639                   0               0                  1  "
      ]
     },
     "execution_count": 17,
     "metadata": {},
     "output_type": "execute_result"
    }
   ],
   "source": [
    "# Houses with more that 6 bathroom (and lower selling price)\n",
    "data[data.Bathrooms > 6]"
   ]
  },
  {
   "cell_type": "markdown",
   "metadata": {},
   "source": [
    "There are only three houses with more than 6 bathrooms, one is a short sale (sold less than its value), and the other tow were foreclosing.  With only 3 data points, and unusual circumstances, the dip in the average price makes sense.  Now let's look at the house with more than 7 bedrooms, to see if we can explain that dip :  "
   ]
  },
  {
   "cell_type": "code",
   "execution_count": 18,
   "metadata": {},
   "outputs": [
    {
     "data": {
      "text/html": [
       "<div>\n",
       "<style>\n",
       "    .dataframe thead tr:only-child th {\n",
       "        text-align: right;\n",
       "    }\n",
       "\n",
       "    .dataframe thead th {\n",
       "        text-align: left;\n",
       "    }\n",
       "\n",
       "    .dataframe tbody tr th {\n",
       "        vertical-align: top;\n",
       "    }\n",
       "</style>\n",
       "<table border=\"1\" class=\"dataframe\">\n",
       "  <thead>\n",
       "    <tr style=\"text-align: right;\">\n",
       "      <th></th>\n",
       "      <th>MLS</th>\n",
       "      <th>Location</th>\n",
       "      <th>Price</th>\n",
       "      <th>Bedrooms</th>\n",
       "      <th>Bathrooms</th>\n",
       "      <th>Size</th>\n",
       "      <th>Price/SQ.Ft</th>\n",
       "      <th>Status_Foreclosure</th>\n",
       "      <th>Status_Regular</th>\n",
       "      <th>Status_Short Sale</th>\n",
       "    </tr>\n",
       "  </thead>\n",
       "  <tbody>\n",
       "    <tr>\n",
       "      <th>75</th>\n",
       "      <td>145471</td>\n",
       "      <td>Nipomo</td>\n",
       "      <td>325000.0</td>\n",
       "      <td>7</td>\n",
       "      <td>5</td>\n",
       "      <td>2688</td>\n",
       "      <td>120.91</td>\n",
       "      <td>0</td>\n",
       "      <td>0</td>\n",
       "      <td>1</td>\n",
       "    </tr>\n",
       "  </tbody>\n",
       "</table>\n",
       "</div>"
      ],
      "text/plain": [
       "       MLS Location     Price  Bedrooms  Bathrooms  Size  Price/SQ.Ft  \\\n",
       "75  145471   Nipomo  325000.0         7          5  2688       120.91   \n",
       "\n",
       "    Status_Foreclosure  Status_Regular  Status_Short Sale  \n",
       "75                   0               0                  1  "
      ]
     },
     "execution_count": 18,
     "metadata": {},
     "output_type": "execute_result"
    }
   ],
   "source": [
    "data[data.Bedrooms == 7]"
   ]
  },
  {
   "cell_type": "markdown",
   "metadata": {},
   "source": [
    "Again, this houses was sold with unusual circumstances, so we can justify the drop in price."
   ]
  },
  {
   "cell_type": "markdown",
   "metadata": {},
   "source": [
    "### Location and Population Density\n",
    "\n",
    "Before making a model, I would like to take a quick look at mean price based on location and population density to show a simple groupby call, and justify scraping the data.  Now I expect the Price / square foot to have more of a correlation with the population density than the total price of the house, so I will be including it in the new data frame. "
   ]
  },
  {
   "cell_type": "code",
   "execution_count": 19,
   "metadata": {},
   "outputs": [
    {
     "data": {
      "text/html": [
       "<div>\n",
       "<style>\n",
       "    .dataframe thead tr:only-child th {\n",
       "        text-align: right;\n",
       "    }\n",
       "\n",
       "    .dataframe thead th {\n",
       "        text-align: left;\n",
       "    }\n",
       "\n",
       "    .dataframe tbody tr th {\n",
       "        vertical-align: top;\n",
       "    }\n",
       "</style>\n",
       "<table border=\"1\" class=\"dataframe\">\n",
       "  <thead>\n",
       "    <tr style=\"text-align: right;\">\n",
       "      <th></th>\n",
       "      <th>Location</th>\n",
       "      <th>Price</th>\n",
       "      <th>Price/SQ.Ft</th>\n",
       "      <th>pop_density</th>\n",
       "    </tr>\n",
       "  </thead>\n",
       "  <tbody>\n",
       "    <tr>\n",
       "      <th>0</th>\n",
       "      <td>Arroyo Grande</td>\n",
       "      <td>5.565423e+05</td>\n",
       "      <td>279.213590</td>\n",
       "      <td>3102.52</td>\n",
       "    </tr>\n",
       "    <tr>\n",
       "      <th>1</th>\n",
       "      <td>Atascadero</td>\n",
       "      <td>4.365415e+05</td>\n",
       "      <td>221.587353</td>\n",
       "      <td>1162.74</td>\n",
       "    </tr>\n",
       "    <tr>\n",
       "      <th>2</th>\n",
       "      <td>Avila Beach</td>\n",
       "      <td>1.205667e+06</td>\n",
       "      <td>566.550000</td>\n",
       "      <td>NaN</td>\n",
       "    </tr>\n",
       "    <tr>\n",
       "      <th>3</th>\n",
       "      <td>Bakersfield</td>\n",
       "      <td>9.150000e+04</td>\n",
       "      <td>69.690000</td>\n",
       "      <td>2516.01</td>\n",
       "    </tr>\n",
       "    <tr>\n",
       "      <th>4</th>\n",
       "      <td>Bradley</td>\n",
       "      <td>6.857250e+05</td>\n",
       "      <td>276.622500</td>\n",
       "      <td>NaN</td>\n",
       "    </tr>\n",
       "  </tbody>\n",
       "</table>\n",
       "</div>"
      ],
      "text/plain": [
       "        Location         Price  Price/SQ.Ft  pop_density\n",
       "0  Arroyo Grande  5.565423e+05   279.213590      3102.52\n",
       "1     Atascadero  4.365415e+05   221.587353      1162.74\n",
       "2    Avila Beach  1.205667e+06   566.550000          NaN\n",
       "3    Bakersfield  9.150000e+04    69.690000      2516.01\n",
       "4        Bradley  6.857250e+05   276.622500          NaN"
      ]
     },
     "execution_count": 19,
     "metadata": {},
     "output_type": "execute_result"
    }
   ],
   "source": [
    "location_data = data.groupby('Location', as_index=False).mean()[['Location', 'Price', 'Price/SQ.Ft']]\n",
    "location_data = location_data.merge(density_data, how='left', on='Location')\n",
    "location_data.head()"
   ]
  },
  {
   "cell_type": "markdown",
   "metadata": {},
   "source": [
    "Now that we have this data, let us take a look at how Price and Price/SQ.Ft correlate with population density."
   ]
  },
  {
   "cell_type": "code",
   "execution_count": 20,
   "metadata": {},
   "outputs": [
    {
     "data": {
      "image/png": "[encoded data removed]",
      "text/plain": [
       "<matplotlib.figure.Figure at 0x7f58b20c2f60>"
      ]
     },
     "metadata": {},
     "output_type": "display_data"
    }
   ],
   "source": [
    "# Show correlation matrix/heatmap\n",
    "corr_map(location_data, figsize=(7,5))"
   ]
  },
  {
   "cell_type": "code",
   "execution_count": 21,
   "metadata": {},
   "outputs": [
    {
     "data": {
      "text/plain": [
       "<matplotlib.text.Text at 0x7f58b2bb9470>"
      ]
     },
     "execution_count": 21,
     "metadata": {},
     "output_type": "execute_result"
    },
    {
     "data": {
      "image/png": "[encoded data removed]",
      "text/plain": [
       "<matplotlib.figure.Figure at 0x7f58b2b31cc0>"
      ]
     },
     "metadata": {},
     "output_type": "display_data"
    }
   ],
   "source": [
    "# Plot Price and Price/SQ.Ft as a function of population density\n",
    "f, (ax1, ax2) = plt.subplots(ncols=2, figsize=(15,5));\n",
    "\n",
    "\n",
    "location_data.plot(x='pop_density', y='Price', ax=ax1, kind='scatter')\n",
    "ax1.set_xlabel('Population Density (per SQ mile)')\n",
    "ax1.set_ylabel('Price ($)')\n",
    "\n",
    "location_data.plot(x='pop_density', y='Price/SQ.Ft', ax=ax2, kind='scatter')\n",
    "ax2.set_xlabel('Population Density (per SQ mile)')\n",
    "ax2.set_ylabel('Price ($) / SQ foot')"
   ]
  },
  {
   "cell_type": "markdown",
   "metadata": {},
   "source": [
    "Well this is surprising.  It seems that there is very little correlation between the two.  I suppose I was wrong to assume as much.  In fact they both seem to be negatively correlated... I thought there may be a mistake in the numbers that I fetched, but that does not seem to be the case.  I guess population density is not a good predictor of housing prices. "
   ]
  },
  {
   "cell_type": "markdown",
   "metadata": {},
   "source": [
    "## Building a Model to Predict Prices : \n",
    "\n",
    "Now that we have done a little EDA, let us build a model and see if we can correctly predict house prices, based on the given features.  Note that we will no longer be using population density, since it is not a good predictor, and since it's by town, it is effectively the same thing as using the location. \n",
    "<br>\n",
    "<br>\n",
    "There are many different models that we could use, but I will not be testing many out.  I will simply pick a random forest regressor (because they are my favorite), and see what we get.  Also, we will only do very little grid searching, and hyperparameter optimization. "
   ]
  },
  {
   "cell_type": "markdown",
   "metadata": {},
   "source": [
    "### Preprocessing\n",
    "Since we are using a decision tree method, we do not need to standarize the data, we do however have to encode the location.  We did not do this before since I wanted to use it for the groupby.  "
   ]
  },
  {
   "cell_type": "code",
   "execution_count": 22,
   "metadata": {},
   "outputs": [
    {
     "data": {
      "text/html": [
       "<div>\n",
       "<style>\n",
       "    .dataframe thead tr:only-child th {\n",
       "        text-align: right;\n",
       "    }\n",
       "\n",
       "    .dataframe thead th {\n",
       "        text-align: left;\n",
       "    }\n",
       "\n",
       "    .dataframe tbody tr th {\n",
       "        vertical-align: top;\n",
       "    }\n",
       "</style>\n",
       "<table border=\"1\" class=\"dataframe\">\n",
       "  <thead>\n",
       "    <tr style=\"text-align: right;\">\n",
       "      <th></th>\n",
       "      <th>MLS</th>\n",
       "      <th>Price</th>\n",
       "      <th>Bedrooms</th>\n",
       "      <th>Bathrooms</th>\n",
       "      <th>Size</th>\n",
       "      <th>Price/SQ.Ft</th>\n",
       "      <th>Status_Foreclosure</th>\n",
       "      <th>Status_Regular</th>\n",
       "      <th>Status_Short Sale</th>\n",
       "      <th>Location_Arroyo Grande</th>\n",
       "      <th>...</th>\n",
       "      <th>Location_Pismo Beach</th>\n",
       "      <th>Location_San Luis Obispo</th>\n",
       "      <th>Location_San Miguel</th>\n",
       "      <th>Location_San Simeon</th>\n",
       "      <th>Location_Santa Margarita</th>\n",
       "      <th>Location_Santa Maria-Orcutt</th>\n",
       "      <th>Location_Santa Ynez</th>\n",
       "      <th>Location_Soledad</th>\n",
       "      <th>Location_Solvang</th>\n",
       "      <th>Location_Templeton</th>\n",
       "    </tr>\n",
       "  </thead>\n",
       "  <tbody>\n",
       "    <tr>\n",
       "      <th>0</th>\n",
       "      <td>132842</td>\n",
       "      <td>795000.0</td>\n",
       "      <td>3</td>\n",
       "      <td>3</td>\n",
       "      <td>2371</td>\n",
       "      <td>335.30</td>\n",
       "      <td>0</td>\n",
       "      <td>0</td>\n",
       "      <td>1</td>\n",
       "      <td>1</td>\n",
       "      <td>...</td>\n",
       "      <td>0</td>\n",
       "      <td>0</td>\n",
       "      <td>0</td>\n",
       "      <td>0</td>\n",
       "      <td>0</td>\n",
       "      <td>0</td>\n",
       "      <td>0</td>\n",
       "      <td>0</td>\n",
       "      <td>0</td>\n",
       "      <td>0</td>\n",
       "    </tr>\n",
       "    <tr>\n",
       "      <th>1</th>\n",
       "      <td>134364</td>\n",
       "      <td>399000.0</td>\n",
       "      <td>4</td>\n",
       "      <td>3</td>\n",
       "      <td>2818</td>\n",
       "      <td>141.59</td>\n",
       "      <td>0</td>\n",
       "      <td>0</td>\n",
       "      <td>1</td>\n",
       "      <td>0</td>\n",
       "      <td>...</td>\n",
       "      <td>0</td>\n",
       "      <td>0</td>\n",
       "      <td>0</td>\n",
       "      <td>0</td>\n",
       "      <td>0</td>\n",
       "      <td>0</td>\n",
       "      <td>0</td>\n",
       "      <td>0</td>\n",
       "      <td>0</td>\n",
       "      <td>0</td>\n",
       "    </tr>\n",
       "    <tr>\n",
       "      <th>2</th>\n",
       "      <td>135141</td>\n",
       "      <td>545000.0</td>\n",
       "      <td>4</td>\n",
       "      <td>3</td>\n",
       "      <td>3032</td>\n",
       "      <td>179.75</td>\n",
       "      <td>0</td>\n",
       "      <td>0</td>\n",
       "      <td>1</td>\n",
       "      <td>0</td>\n",
       "      <td>...</td>\n",
       "      <td>0</td>\n",
       "      <td>0</td>\n",
       "      <td>0</td>\n",
       "      <td>0</td>\n",
       "      <td>0</td>\n",
       "      <td>0</td>\n",
       "      <td>0</td>\n",
       "      <td>0</td>\n",
       "      <td>0</td>\n",
       "      <td>0</td>\n",
       "    </tr>\n",
       "    <tr>\n",
       "      <th>3</th>\n",
       "      <td>135712</td>\n",
       "      <td>909000.0</td>\n",
       "      <td>4</td>\n",
       "      <td>4</td>\n",
       "      <td>3540</td>\n",
       "      <td>256.78</td>\n",
       "      <td>0</td>\n",
       "      <td>0</td>\n",
       "      <td>1</td>\n",
       "      <td>0</td>\n",
       "      <td>...</td>\n",
       "      <td>0</td>\n",
       "      <td>0</td>\n",
       "      <td>0</td>\n",
       "      <td>0</td>\n",
       "      <td>0</td>\n",
       "      <td>0</td>\n",
       "      <td>0</td>\n",
       "      <td>0</td>\n",
       "      <td>0</td>\n",
       "      <td>0</td>\n",
       "    </tr>\n",
       "    <tr>\n",
       "      <th>4</th>\n",
       "      <td>136282</td>\n",
       "      <td>109900.0</td>\n",
       "      <td>3</td>\n",
       "      <td>1</td>\n",
       "      <td>1249</td>\n",
       "      <td>87.99</td>\n",
       "      <td>0</td>\n",
       "      <td>0</td>\n",
       "      <td>1</td>\n",
       "      <td>0</td>\n",
       "      <td>...</td>\n",
       "      <td>0</td>\n",
       "      <td>0</td>\n",
       "      <td>0</td>\n",
       "      <td>0</td>\n",
       "      <td>0</td>\n",
       "      <td>1</td>\n",
       "      <td>0</td>\n",
       "      <td>0</td>\n",
       "      <td>0</td>\n",
       "      <td>0</td>\n",
       "    </tr>\n",
       "  </tbody>\n",
       "</table>\n",
       "<p>5 rows × 43 columns</p>\n",
       "</div>"
      ],
      "text/plain": [
       "      MLS     Price  Bedrooms  Bathrooms  Size  Price/SQ.Ft  \\\n",
       "0  132842  795000.0         3          3  2371       335.30   \n",
       "1  134364  399000.0         4          3  2818       141.59   \n",
       "2  135141  545000.0         4          3  3032       179.75   \n",
       "3  135712  909000.0         4          4  3540       256.78   \n",
       "4  136282  109900.0         3          1  1249        87.99   \n",
       "\n",
       "   Status_Foreclosure  Status_Regular  Status_Short Sale  \\\n",
       "0                   0               0                  1   \n",
       "1                   0               0                  1   \n",
       "2                   0               0                  1   \n",
       "3                   0               0                  1   \n",
       "4                   0               0                  1   \n",
       "\n",
       "   Location_Arroyo Grande         ...          Location_Pismo Beach  \\\n",
       "0                       1         ...                             0   \n",
       "1                       0         ...                             0   \n",
       "2                       0         ...                             0   \n",
       "3                       0         ...                             0   \n",
       "4                       0         ...                             0   \n",
       "\n",
       "   Location_San Luis Obispo  Location_San Miguel  Location_San Simeon  \\\n",
       "0                         0                    0                    0   \n",
       "1                         0                    0                    0   \n",
       "2                         0                    0                    0   \n",
       "3                         0                    0                    0   \n",
       "4                         0                    0                    0   \n",
       "\n",
       "   Location_Santa Margarita  Location_Santa Maria-Orcutt  Location_Santa Ynez  \\\n",
       "0                         0                            0                    0   \n",
       "1                         0                            0                    0   \n",
       "2                         0                            0                    0   \n",
       "3                         0                            0                    0   \n",
       "4                         0                            1                    0   \n",
       "\n",
       "   Location_Soledad  Location_Solvang  Location_Templeton  \n",
       "0                 0                 0                   0  \n",
       "1                 0                 0                   0  \n",
       "2                 0                 0                   0  \n",
       "3                 0                 0                   0  \n",
       "4                 0                 0                   0  \n",
       "\n",
       "[5 rows x 43 columns]"
      ]
     },
     "execution_count": 22,
     "metadata": {},
     "output_type": "execute_result"
    }
   ],
   "source": [
    "# Encode Location Data\n",
    "data = pd.get_dummies(data, prefix=None, columns=['Location'])\n",
    "data.head()"
   ]
  },
  {
   "cell_type": "code",
   "execution_count": 23,
   "metadata": {
    "collapsed": true
   },
   "outputs": [],
   "source": [
    "# Seperate Data into predictors and target variable (X, y)\n",
    "X = data[[c for c in data.columns if c != 'Price']].values\n",
    "y = data.Price.values\n",
    "\n",
    "# Train test split\n",
    "X_train, X_test, y_train, y_test = train_test_split(X, y, test_size=0.2)"
   ]
  },
  {
   "cell_type": "markdown",
   "metadata": {},
   "source": [
    "With the data split into a training and testing set, we can now make our model.  For this we will be using a grid search to find the best hyperparameters."
   ]
  },
  {
   "cell_type": "code",
   "execution_count": 24,
   "metadata": {},
   "outputs": [
    {
     "data": {
      "text/plain": [
       "GridSearchCV(cv=None, error_score='raise',\n",
       "       estimator=RandomForestRegressor(bootstrap=True, criterion='mse', max_depth=None,\n",
       "           max_features='auto', max_leaf_nodes=None,\n",
       "           min_impurity_split=1e-07, min_samples_leaf=1,\n",
       "           min_samples_split=2, min_weight_fraction_leaf=0.0,\n",
       "           n_estimators=10, n_jobs=1, oob_score=False, random_state=None,\n",
       "           verbose=0, warm_start=False),\n",
       "       fit_params={}, iid=True, n_jobs=-1,\n",
       "       param_grid={'n_estimators': [5, 10, 20, 30], 'max_depth': [None, 2, 4, 8], 'min_samples_split': [2, 4, 8]},\n",
       "       pre_dispatch='2*n_jobs', refit=True, return_train_score=True,\n",
       "       scoring=None, verbose=0)"
      ]
     },
     "execution_count": 24,
     "metadata": {},
     "output_type": "execute_result"
    }
   ],
   "source": [
    "# Define Grid parameters to loop over. \n",
    "grid_params = {\n",
    "    'n_estimators'     : [5, 10, 20, 30], # Number of Trees\n",
    "    'max_depth'        : [None, 2, 4, 8], # Maximum number of splits in a branch\n",
    "    'min_samples_split' : [2, 4, 8]       # Minimum number of rows that have to be in node. \n",
    "}\n",
    "\n",
    "# Define and fit grid / random forest regressor\n",
    "M = GridSearchCV(RandomForestRegressor(), param_grid=grid_params, n_jobs=-1)\n",
    "M.fit(X_train, y_train)"
   ]
  },
  {
   "cell_type": "markdown",
   "metadata": {},
   "source": [
    "Before looking at how our model performed, lets look at the best parameters out of curiosity : "
   ]
  },
  {
   "cell_type": "code",
   "execution_count": 25,
   "metadata": {},
   "outputs": [
    {
     "data": {
      "text/plain": [
       "{'max_depth': None, 'min_samples_split': 2, 'n_estimators': 30}"
      ]
     },
     "execution_count": 25,
     "metadata": {},
     "output_type": "execute_result"
    }
   ],
   "source": [
    "M.best_params_"
   ]
  },
  {
   "cell_type": "markdown",
   "metadata": {},
   "source": [
    "Since this is a demonstration, we will not be fine tuning any further.  So without further ado, let us look at the results : "
   ]
  },
  {
   "cell_type": "code",
   "execution_count": 26,
   "metadata": {},
   "outputs": [
    {
     "name": "stdout",
     "output_type": "stream",
     "text": [
      "Training Set Score (R2):  0.992945893158\n",
      "Testing Set Score (R2) : 0.947704551485\n"
     ]
    }
   ],
   "source": [
    "print('Training Set Score (R2): ', M.score(X_train, y_train))\n",
    "print('Testing Set Score (R2) :', M.score(X_test, y_test))"
   ]
  },
  {
   "cell_type": "markdown",
   "metadata": {},
   "source": [
    "With an R2 value of 0.97 on the testing set, I would say this is a pretty good model!  For the sake of completion, let's plot predictted vs actual values : "
   ]
  },
  {
   "cell_type": "code",
   "execution_count": 27,
   "metadata": {},
   "outputs": [
    {
     "data": {
      "text/plain": [
       "<matplotlib.text.Text at 0x7f58b2d76eb8>"
      ]
     },
     "execution_count": 27,
     "metadata": {},
     "output_type": "execute_result"
    },
    {
     "data": {
      "image/png": "[encoded data removed]",
      "text/plain": [
       "<matplotlib.figure.Figure at 0x7f58b2ac4ef0>"
      ]
     },
     "metadata": {},
     "output_type": "display_data"
    }
   ],
   "source": [
    "predictions = M.predict(X_test)\n",
    "\n",
    "plt.scatter(x=y_test/1000, y=predictions/1000)\n",
    "plt.xlabel('Actual Price (thousands of dollars)')\n",
    "plt.ylabel('Predicted Price (thousands of dollars)')\n",
    "plt.title('Random Forest Regressor Results')"
   ]
  },
  {
   "cell_type": "markdown",
   "metadata": {},
   "source": [
    "Before moving on, let us look at the parameters of the forest : "
   ]
  },
  {
   "cell_type": "code",
   "execution_count": 38,
   "metadata": {},
   "outputs": [
    {
     "name": "stdout",
     "output_type": "stream",
     "text": [
      "\t Linear Regression\n",
      "d = 1 \t 0.42697731071886436 \t\n",
      "d = 2 \t 0.7196063932503032 \t\n",
      "d = 3 \t 0.854843393438858 \t\n",
      "d = 4 \t 0.9160298550125227 \t\n",
      "d = None \t 0.9620906290230451 \t\n"
     ]
    }
   ],
   "source": [
    "from sklearn.tree import DecisionTreeRegressor\n",
    "\n",
    "depth    = [1, 2, None] \n",
    "Trees = Forest.estimators_()\n",
    "\n",
    "tree_array = []\n",
    "for t in Trees : \n",
    "    f = [t.set_params(depth=d).fit(X_train, y_train) for d in depth]\n",
    "    tree_array.append(f)\n",
    "    \n",
    "\n",
    "_ = [t.set]\n",
    "\n",
    "forest = [RandomForestRegressor(max_depth=d, min_samples_split= 2,\n",
    "                                n_estimators=30).fit(X_train, y_train) for d in depth]\n",
    "\n",
    "print('\\t Linear Regression')\n",
    "for i in range(len(forest)):\n",
    "    \n",
    "    cross_lin = cross_val_score(forest[i], X_train, y_train, cv=5).mean()\n",
    "    \n",
    "    text = 'd = {} \\t {} \\t'.format(depth[i], cross_lin)\n",
    "    print(text)"
   ]
  },
  {
   "cell_type": "markdown",
   "metadata": {},
   "source": [
    "## Model Conclusion : \n",
    "We have used a small data set of houses in San Luis Obipso, California area and built a model to estimate prices based on features such as : size, number of bathrooms, etc... \n",
    "We have found that we can accurately predict with an R2 score of 0.97, which is very good. That being said, this is a demonstration, and  I am sure we could make this better with some more fine tuning, and perhaps other types of models would work better.\n",
    "<br>\n",
    "<br>\n",
    "### Usage for HomeTap : \n",
    "With accurate estimates based on property features, we can use a model such as this to get the present value of a house.  If combined with timeseries data of housing in a specific area, we can predict its future value, and hence the profits from investing in shares of a house, hence being able to make an informed decision on whether one should invest in the first place. \n",
    "<br><br>\n",
    "### Final Thoughts : \n",
    "I admit that actual data used on the job is probably messier than this, has more features, would need more cleaning / preprocessing.  I am also only speculating the details of the business plan.  But, again, this was mostly to give a quick demonstration of my skills, and show my interest in the position.  I hope you have enjoyed going through it!"
   ]
  },
  {
   "cell_type": "code",
   "execution_count": null,
   "metadata": {
    "collapsed": true
   },
   "outputs": [],
   "source": []
  }
 ],
 "metadata": {
  "kernelspec": {
   "display_name": "Python 3",
   "language": "python",
   "name": "python3"
  },
  "language_info": {
   "codemirror_mode": {
    "name": "ipython",
    "version": 3
   },
   "file_extension": ".py",
   "mimetype": "text/x-python",
   "name": "python",
   "nbconvert_exporter": "python",
   "pygments_lexer": "ipython3",
   "version": "3.6.1"
  }
 },
 "nbformat": 4,
 "nbformat_minor": 2
}
